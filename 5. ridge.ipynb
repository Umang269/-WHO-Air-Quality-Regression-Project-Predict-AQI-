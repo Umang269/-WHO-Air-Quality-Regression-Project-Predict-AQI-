{
 "cells": [
  {
   "cell_type": "code",
   "execution_count": 1,
   "id": "71afd650-6fd3-4bb4-a3f5-60a86ed14cd2",
   "metadata": {},
   "outputs": [],
   "source": [
    "import pandas as pd\n",
    "import numpy as np\n",
    "import seaborn as sns\n",
    "from scipy import stats\n",
    "import matplotlib.pyplot as plt"
   ]
  },
  {
   "cell_type": "code",
   "execution_count": 2,
   "id": "c2a17afa-4a7c-478a-bcf9-f6f9089ac090",
   "metadata": {},
   "outputs": [],
   "source": [
    "df = pd.read_csv('Cleaned_Data')"
   ]
  },
  {
   "cell_type": "code",
   "execution_count": 3,
   "id": "cd9a42ba-86d6-4119-a87d-5860fe3ba0cd",
   "metadata": {},
   "outputs": [],
   "source": [
    "X=df.drop(columns='AQI')\n",
    "y=df[\"AQI\"]"
   ]
  },
  {
   "cell_type": "code",
   "execution_count": 4,
   "id": "9fa4f65a-8f0f-4bdf-8732-dd0ca5f27a54",
   "metadata": {},
   "outputs": [],
   "source": [
    "from sklearn.preprocessing import StandardScaler\n",
    "sc = StandardScaler()\n",
    "X = sc.fit_transform(X)"
   ]
  },
  {
   "cell_type": "code",
   "execution_count": 5,
   "id": "b7cdb41b-4864-4c47-b2e1-6ff286cecae6",
   "metadata": {},
   "outputs": [],
   "source": [
    "from sklearn.model_selection import train_test_split\n",
    "x_train,x_test,y_train,y_test = train_test_split(X, y, train_size=0.8, random_state=10)"
   ]
  },
  {
   "cell_type": "code",
   "execution_count": 6,
   "id": "c0344c30-33f6-4a63-98ff-786a8f8ee70c",
   "metadata": {},
   "outputs": [],
   "source": [
    "from sklearn.decomposition import PCA\n",
    "pc = PCA(n_components=0.95)\n",
    "x_train = pc.fit_transform(x_train)\n",
    "x_test = pc.transform(x_test)"
   ]
  },
  {
   "cell_type": "code",
   "execution_count": 7,
   "id": "25530d9d-485c-4fda-936d-ec176fa9873a",
   "metadata": {},
   "outputs": [
    {
     "name": "stdout",
     "output_type": "stream",
     "text": [
      "intercept : 41.256055342202764\n",
      "Coef : [ 9.29859493  8.12057874 -4.34964955  0.15437957  1.28389772  1.36337084\n",
      "  3.5419205 ]\n",
      "Train R2 : 0.7468893055572741\n",
      "Test R2 : 0.7471841902530292\n",
      "CV Score : 0.746723974828622\n"
     ]
    }
   ],
   "source": [
    "#modeling\n",
    "from sklearn.linear_model import Ridge\n",
    "mod = Ridge()\n",
    "mod.fit(x_train,y_train)\n",
    "print('intercept :',mod.intercept_)\n",
    "print('Coef :',mod.coef_)\n",
    "\n",
    "#predection\n",
    "x_train_pred = mod.predict(x_train)\n",
    "x_test_pred = mod.predict(x_test)\n",
    "\n",
    "#evolution\n",
    "print('Train R2 :',mod.score(x_train,y_train))\n",
    "print('Test R2 :',mod.score(x_test,y_test))\n",
    "\n",
    "#CV Score\n",
    "from sklearn.model_selection import cross_val_score\n",
    "cv = cross_val_score(mod,x_train,y_train,cv=5,scoring='r2')\n",
    "print('CV Score :',cv.mean())"
   ]
  },
  {
   "cell_type": "markdown",
   "id": "dccb9df0-618a-4578-8e2e-02c846679813",
   "metadata": {},
   "source": [
    "**Checking best alpha value**"
   ]
  },
  {
   "cell_type": "code",
   "execution_count": 9,
   "id": "07007c6c-ff1e-4b44-90e4-9002276ec094",
   "metadata": {},
   "outputs": [
    {
     "data": {
      "text/plain": [
       "{'alpha': 40}"
      ]
     },
     "execution_count": 9,
     "metadata": {},
     "output_type": "execute_result"
    }
   ],
   "source": [
    "from sklearn.model_selection import GridSearchCV\n",
    "est = Ridge()\n",
    "listt = {'alpha':list(range(1,100))}\n",
    "mod = GridSearchCV(est,listt,cv=5)\n",
    "mod.fit(x_train,y_train)\n",
    "mod.best_params_"
   ]
  },
  {
   "cell_type": "markdown",
   "id": "296206a2-7261-4f48-b801-6ac7e33e5785",
   "metadata": {},
   "source": [
    "**Remodeling**"
   ]
  },
  {
   "cell_type": "code",
   "execution_count": 11,
   "id": "337b356e-991f-4298-94d4-d3fe8eced402",
   "metadata": {},
   "outputs": [
    {
     "name": "stdout",
     "output_type": "stream",
     "text": [
      "intercept : 41.256055342202764\n",
      "Coef : [ 9.29667001  8.1157561  -4.3469112   0.15426103  1.28289834  1.36088728\n",
      "  3.52983461]\n",
      "Train R2 : 0.7468891440779605\n",
      "Test R2 : 0.747174258302463\n",
      "CV Score : 0.7467242180692316\n"
     ]
    }
   ],
   "source": [
    "#modeling\n",
    "from sklearn.linear_model import Ridge\n",
    "mod = Ridge(alpha=40)\n",
    "mod.fit(x_train,y_train)\n",
    "print('intercept :',mod.intercept_)\n",
    "print('Coef :',mod.coef_)\n",
    "\n",
    "#predection\n",
    "x_train_pred = mod.predict(x_train)\n",
    "x_test_pred = mod.predict(x_test)\n",
    "\n",
    "#evolution\n",
    "print('Train R2 :',mod.score(x_train,y_train))\n",
    "print('Test R2 :',mod.score(x_test,y_test))\n",
    "\n",
    "#CV Score\n",
    "from sklearn.model_selection import cross_val_score\n",
    "cv = cross_val_score(mod,x_train,y_train,cv=5,scoring='r2')\n",
    "print('CV Score :',cv.mean())"
   ]
  },
  {
   "cell_type": "code",
   "execution_count": 12,
   "id": "53c379ae-a784-4fa2-b0b6-8b730210cf40",
   "metadata": {},
   "outputs": [
    {
     "name": "stdout",
     "output_type": "stream",
     "text": [
      "Train RMSE : 13.314328029187585\n",
      "Test RMSE : 13.705904972611487\n",
      "CV Score : 13.317737809869108\n"
     ]
    }
   ],
   "source": [
    "#Checking RMSE\n",
    "from sklearn.metrics import mean_squared_error\n",
    "Train_MSE=mean_squared_error(y_train,x_train_pred)\n",
    "Test_MSE=mean_squared_error(y_test,x_test_pred)\n",
    "print('Train RMSE :',Train_MSE**0.5)\n",
    "print('Test RMSE :',Test_MSE**0.5)\n",
    "cv = cross_val_score(mod,x_train,y_train,cv=5,scoring='neg_mean_squared_error')\n",
    "cv = abs(cv.mean())\n",
    "print ('CV Score :',cv**0.5)"
   ]
  },
  {
   "cell_type": "code",
   "execution_count": null,
   "id": "49f5f83b-48e5-4730-9c3a-762982c8dc06",
   "metadata": {},
   "outputs": [],
   "source": []
  }
 ],
 "metadata": {
  "kernelspec": {
   "display_name": "Python [conda env:base] *",
   "language": "python",
   "name": "conda-base-py"
  },
  "language_info": {
   "codemirror_mode": {
    "name": "ipython",
    "version": 3
   },
   "file_extension": ".py",
   "mimetype": "text/x-python",
   "name": "python",
   "nbconvert_exporter": "python",
   "pygments_lexer": "ipython3",
   "version": "3.12.7"
  }
 },
 "nbformat": 4,
 "nbformat_minor": 5
}
