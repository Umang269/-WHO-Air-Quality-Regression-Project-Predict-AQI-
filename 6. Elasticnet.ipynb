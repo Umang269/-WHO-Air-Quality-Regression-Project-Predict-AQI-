{
 "cells": [
  {
   "cell_type": "code",
   "execution_count": 1,
   "id": "71afd650-6fd3-4bb4-a3f5-60a86ed14cd2",
   "metadata": {},
   "outputs": [],
   "source": [
    "import pandas as pd\n",
    "import numpy as np\n",
    "import seaborn as sns\n",
    "from scipy import stats\n",
    "import matplotlib.pyplot as plt"
   ]
  },
  {
   "cell_type": "code",
   "execution_count": 2,
   "id": "c2a17afa-4a7c-478a-bcf9-f6f9089ac090",
   "metadata": {},
   "outputs": [],
   "source": [
    "df = pd.read_csv('Cleaned_Data')"
   ]
  },
  {
   "cell_type": "code",
   "execution_count": 3,
   "id": "cd9a42ba-86d6-4119-a87d-5860fe3ba0cd",
   "metadata": {},
   "outputs": [],
   "source": [
    "X=df.drop(columns='AQI')\n",
    "y=df[\"AQI\"]"
   ]
  },
  {
   "cell_type": "code",
   "execution_count": 4,
   "id": "887e7e44-1489-45db-a5e1-bbd5aebfc4b7",
   "metadata": {},
   "outputs": [],
   "source": [
    "from sklearn.preprocessing import StandardScaler\n",
    "sc = StandardScaler()\n",
    "X = sc.fit_transform(X)"
   ]
  },
  {
   "cell_type": "code",
   "execution_count": 5,
   "id": "b7cdb41b-4864-4c47-b2e1-6ff286cecae6",
   "metadata": {},
   "outputs": [],
   "source": [
    "from sklearn.model_selection import train_test_split\n",
    "x_train,x_test,y_train,y_test = train_test_split(X, y, train_size=0.8, random_state=10)"
   ]
  },
  {
   "cell_type": "code",
   "execution_count": 6,
   "id": "bc90f472-77ef-4923-8c40-e1644c976e15",
   "metadata": {},
   "outputs": [],
   "source": [
    "from sklearn.decomposition import PCA\n",
    "pc = PCA(n_components=0.95)\n",
    "x_train = pc.fit_transform(x_train)\n",
    "x_test = pc.transform(x_test)"
   ]
  },
  {
   "cell_type": "code",
   "execution_count": 7,
   "id": "25530d9d-485c-4fda-936d-ec176fa9873a",
   "metadata": {},
   "outputs": [
    {
     "name": "stdout",
     "output_type": "stream",
     "text": [
      "intercept : 41.256055342202764\n",
      "intercept : [ 8.26215528  5.90353514 -2.99092845  0.          0.6072293   0.18982725\n",
      "  0.59339504]\n",
      "Train R2 : 0.7200682825660367\n",
      "Test R2 : 0.7172728921607495\n",
      "CV Score : 0.7199658211481772\n"
     ]
    }
   ],
   "source": [
    "#modeling\n",
    "from sklearn.linear_model import ElasticNet\n",
    "mod = ElasticNet()\n",
    "mod.fit(x_train,y_train)\n",
    "print('intercept :',mod.intercept_)\n",
    "print('intercept :',mod.coef_)\n",
    "\n",
    "#predection\n",
    "x_train_pred = mod.predict(x_train)\n",
    "x_test_pred = mod.predict(x_test)\n",
    "\n",
    "#evolution\n",
    "print('Train R2 :',mod.score(x_train,y_train))\n",
    "print('Test R2 :',mod.score(x_test,y_test))\n",
    "\n",
    "#CV Score\n",
    "from sklearn.model_selection import cross_val_score\n",
    "cv = cross_val_score(mod,x_train,y_train,cv=5,scoring='r2')\n",
    "print('CV Score :',cv.mean())"
   ]
  },
  {
   "cell_type": "markdown",
   "id": "381df65f-7ebd-44e9-88cf-e5b971684da6",
   "metadata": {},
   "source": [
    "**Checking values of alpha and l1_ratio**"
   ]
  },
  {
   "cell_type": "code",
   "execution_count": 9,
   "id": "3165f381-2a05-4734-9894-1dc2be0f57b3",
   "metadata": {},
   "outputs": [
    {
     "data": {
      "text/plain": [
       "{'alpha': 1, 'l1_ratio': 1}"
      ]
     },
     "execution_count": 9,
     "metadata": {},
     "output_type": "execute_result"
    }
   ],
   "source": [
    "from sklearn.model_selection import GridSearchCV\n",
    "est = ElasticNet()\n",
    "listt = {'alpha':list(range(1,10)),'l1_ratio':[0.1,0.2,0.3,0.4,0.5,0.6,0.7,0.8,0.9,0.95,1]}\n",
    "mod = GridSearchCV(est,listt,cv=5)\n",
    "mod.fit(x_train,y_train)\n",
    "mod.best_params_"
   ]
  },
  {
   "cell_type": "code",
   "execution_count": 10,
   "id": "c9cf4526-24c6-485c-b9f5-e4c23b6923e8",
   "metadata": {},
   "outputs": [
    {
     "name": "stdout",
     "output_type": "stream",
     "text": [
      "intercept : 41.256055342202764\n",
      "intercept : [ 9.07483267  7.47837436 -3.66877983  0.          0.44186048  0.\n",
      "  0.        ]\n",
      "Train R2 : 0.7372513525766713\n",
      "Test R2 : 0.7364393099483733\n",
      "CV Score : 0.7371722204815573\n"
     ]
    }
   ],
   "source": [
    "#modeling\n",
    "from sklearn.linear_model import ElasticNet\n",
    "mod = ElasticNet(alpha=1,l1_ratio=1)\n",
    "mod.fit(x_train,y_train)\n",
    "print('intercept :',mod.intercept_)\n",
    "print('intercept :',mod.coef_)\n",
    "\n",
    "#predection\n",
    "x_train_pred = mod.predict(x_train)\n",
    "x_test_pred = mod.predict(x_test)\n",
    "\n",
    "#evolution\n",
    "print('Train R2 :',mod.score(x_train,y_train))\n",
    "print('Test R2 :',mod.score(x_test,y_test))\n",
    "\n",
    "#CV Score\n",
    "from sklearn.model_selection import cross_val_score\n",
    "cv = cross_val_score(mod,x_train,y_train,cv=5,scoring='r2')\n",
    "print('CV Score :',cv.mean())"
   ]
  },
  {
   "cell_type": "code",
   "execution_count": 11,
   "id": "b557c863-e1be-4350-85da-66da647aa4bd",
   "metadata": {},
   "outputs": [
    {
     "name": "stdout",
     "output_type": "stream",
     "text": [
      "Train RMSE : 13.565447061400716\n",
      "Test RMSE : 13.993855637990471\n",
      "CV score : 13.564760794818426\n"
     ]
    }
   ],
   "source": [
    "from sklearn.metrics import mean_squared_error\n",
    "mse = mean_squared_error\n",
    "print('Train RMSE :',mse(y_train,x_train_pred)**0.5)\n",
    "print('Test RMSE :',mse(y_test,x_test_pred)**0.5)\n",
    "\n",
    "from sklearn.model_selection import cross_val_score\n",
    "cv= cross_val_score(mod,x_train,y_train,cv=5,scoring='neg_root_mean_squared_error')\n",
    "print(\"CV score :\",abs(cv).mean())"
   ]
  },
  {
   "cell_type": "code",
   "execution_count": null,
   "id": "ab7373a9-da14-4959-af97-69e1791b0bbe",
   "metadata": {},
   "outputs": [],
   "source": []
  }
 ],
 "metadata": {
  "kernelspec": {
   "display_name": "Python [conda env:base] *",
   "language": "python",
   "name": "conda-base-py"
  },
  "language_info": {
   "codemirror_mode": {
    "name": "ipython",
    "version": 3
   },
   "file_extension": ".py",
   "mimetype": "text/x-python",
   "name": "python",
   "nbconvert_exporter": "python",
   "pygments_lexer": "ipython3",
   "version": "3.12.7"
  }
 },
 "nbformat": 4,
 "nbformat_minor": 5
}
