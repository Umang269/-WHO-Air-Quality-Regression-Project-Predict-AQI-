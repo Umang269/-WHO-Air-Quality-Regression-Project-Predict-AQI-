{
 "cells": [
  {
   "cell_type": "code",
   "execution_count": 1,
   "id": "71afd650-6fd3-4bb4-a3f5-60a86ed14cd2",
   "metadata": {},
   "outputs": [],
   "source": [
    "import pandas as pd\n",
    "import numpy as np\n",
    "import seaborn as sns\n",
    "from scipy import stats\n",
    "import matplotlib.pyplot as plt"
   ]
  },
  {
   "cell_type": "code",
   "execution_count": 2,
   "id": "c2a17afa-4a7c-478a-bcf9-f6f9089ac090",
   "metadata": {},
   "outputs": [],
   "source": [
    "df = pd.read_csv('Cleaned_Data')"
   ]
  },
  {
   "cell_type": "code",
   "execution_count": 3,
   "id": "cd9a42ba-86d6-4119-a87d-5860fe3ba0cd",
   "metadata": {},
   "outputs": [],
   "source": [
    "X=df.drop(columns='AQI')\n",
    "y=df[\"AQI\"]"
   ]
  },
  {
   "cell_type": "code",
   "execution_count": 4,
   "id": "82d08f15-8513-4c99-99a8-e670730d0ced",
   "metadata": {},
   "outputs": [],
   "source": [
    "from sklearn.preprocessing import StandardScaler\n",
    "sc = StandardScaler()\n",
    "X = sc.fit_transform(X)"
   ]
  },
  {
   "cell_type": "code",
   "execution_count": 5,
   "id": "b7cdb41b-4864-4c47-b2e1-6ff286cecae6",
   "metadata": {},
   "outputs": [],
   "source": [
    "from sklearn.model_selection import train_test_split\n",
    "x_train,x_test,y_train,y_test = train_test_split(X, y, train_size=0.8, random_state=10)"
   ]
  },
  {
   "cell_type": "code",
   "execution_count": 6,
   "id": "0f562a2f-8ab3-439e-9dbd-5381ce8a9852",
   "metadata": {},
   "outputs": [],
   "source": [
    "from sklearn.decomposition import PCA\n",
    "pc = PCA(n_components=0.95)\n",
    "x_train = pc.fit_transform(x_train)\n",
    "x_test = pc.transform(x_test)"
   ]
  },
  {
   "cell_type": "code",
   "execution_count": 7,
   "id": "64d4ab00-cb21-4e47-b84c-ffc8659a67b3",
   "metadata": {},
   "outputs": [
    {
     "data": {
      "text/plain": [
       "array([0.40647262, 0.14163057, 0.13359959, 0.10952585, 0.10803623,\n",
       "       0.0461153 , 0.02457858])"
      ]
     },
     "execution_count": 7,
     "metadata": {},
     "output_type": "execute_result"
    }
   ],
   "source": [
    "pc.explained_variance_ratio_"
   ]
  },
  {
   "cell_type": "code",
   "execution_count": 8,
   "id": "25530d9d-485c-4fda-936d-ec176fa9873a",
   "metadata": {},
   "outputs": [
    {
     "name": "stdout",
     "output_type": "stream",
     "text": [
      "intercept : 41.256055342202764\n",
      "Coefficient : [ 9.07483267  7.47837436 -3.66877983  0.          0.44186048  0.\n",
      "  0.        ]\n",
      "Train R2 : 0.7372513525766713\n",
      "Test R2 : 0.7364393099483733\n",
      "CV Score : 0.7371722204815573\n"
     ]
    }
   ],
   "source": [
    "#modeling\n",
    "from sklearn.linear_model import Lasso\n",
    "mod = Lasso()\n",
    "mod.fit(x_train,y_train)\n",
    "print('intercept :',mod.intercept_)\n",
    "print('Coefficient :',mod.coef_)\n",
    "\n",
    "\n",
    "#predection\n",
    "x_train_pred = mod.predict(x_train)\n",
    "x_test_pred = mod.predict(x_test)\n",
    "\n",
    "#evolution\n",
    "print('Train R2 :',mod.score(x_train,y_train))\n",
    "print('Test R2 :',mod.score(x_test,y_test))\n",
    "\n",
    "#CV Score\n",
    "from sklearn.model_selection import cross_val_score\n",
    "cv = cross_val_score(mod,x_train,y_train,cv=5,scoring='r2')\n",
    "print('CV Score :',cv.mean())"
   ]
  },
  {
   "cell_type": "markdown",
   "id": "e13eac89-b45a-437d-8425-d6a296d4ba4b",
   "metadata": {},
   "source": [
    "**Checking best alpha value**"
   ]
  },
  {
   "cell_type": "code",
   "execution_count": 10,
   "id": "c2a73551-2976-4d70-abef-c2675be1f7ea",
   "metadata": {},
   "outputs": [
    {
     "data": {
      "text/plain": [
       "{'alpha': 1}"
      ]
     },
     "execution_count": 10,
     "metadata": {},
     "output_type": "execute_result"
    }
   ],
   "source": [
    "from sklearn.model_selection import GridSearchCV\n",
    "est = Lasso()\n",
    "listt = {'alpha':list(range(1,100))}\n",
    "mod = GridSearchCV(est,listt,cv=5,scoring='neg_mean_squared_error')\n",
    "mod.fit(x_train,y_train)\n",
    "mod.best_params_"
   ]
  },
  {
   "cell_type": "markdown",
   "id": "e2e02c39-8f61-4a4f-9829-249fe1d9f7f7",
   "metadata": {},
   "source": [
    "**Remodeling**"
   ]
  },
  {
   "cell_type": "code",
   "execution_count": 12,
   "id": "2758c825-41f4-42c7-b397-107a7d0f8b68",
   "metadata": {},
   "outputs": [
    {
     "data": {
      "text/html": [
       "<div>\n",
       "<style scoped>\n",
       "    .dataframe tbody tr th:only-of-type {\n",
       "        vertical-align: middle;\n",
       "    }\n",
       "\n",
       "    .dataframe tbody tr th {\n",
       "        vertical-align: top;\n",
       "    }\n",
       "\n",
       "    .dataframe thead th {\n",
       "        text-align: right;\n",
       "    }\n",
       "</style>\n",
       "<table border=\"1\" class=\"dataframe\">\n",
       "  <thead>\n",
       "    <tr style=\"text-align: right;\">\n",
       "      <th></th>\n",
       "      <th>0</th>\n",
       "      <th>1</th>\n",
       "      <th>2</th>\n",
       "      <th>3</th>\n",
       "      <th>4</th>\n",
       "      <th>5</th>\n",
       "      <th>6</th>\n",
       "    </tr>\n",
       "  </thead>\n",
       "  <tbody>\n",
       "    <tr>\n",
       "      <th>0</th>\n",
       "      <td>0.662371</td>\n",
       "      <td>-1.501612</td>\n",
       "      <td>-0.602141</td>\n",
       "      <td>-1.544715</td>\n",
       "      <td>0.615640</td>\n",
       "      <td>0.806596</td>\n",
       "      <td>0.730567</td>\n",
       "    </tr>\n",
       "    <tr>\n",
       "      <th>1</th>\n",
       "      <td>-2.799253</td>\n",
       "      <td>1.359548</td>\n",
       "      <td>1.220022</td>\n",
       "      <td>-0.816934</td>\n",
       "      <td>-0.160953</td>\n",
       "      <td>-0.026566</td>\n",
       "      <td>-1.102495</td>\n",
       "    </tr>\n",
       "    <tr>\n",
       "      <th>2</th>\n",
       "      <td>0.334586</td>\n",
       "      <td>-1.535491</td>\n",
       "      <td>-0.429115</td>\n",
       "      <td>1.510595</td>\n",
       "      <td>-1.685778</td>\n",
       "      <td>0.530323</td>\n",
       "      <td>-0.291950</td>\n",
       "    </tr>\n",
       "    <tr>\n",
       "      <th>3</th>\n",
       "      <td>-3.648238</td>\n",
       "      <td>0.530249</td>\n",
       "      <td>-1.013583</td>\n",
       "      <td>0.243336</td>\n",
       "      <td>1.487058</td>\n",
       "      <td>-1.561101</td>\n",
       "      <td>-0.696102</td>\n",
       "    </tr>\n",
       "    <tr>\n",
       "      <th>4</th>\n",
       "      <td>-1.742039</td>\n",
       "      <td>0.941067</td>\n",
       "      <td>1.838339</td>\n",
       "      <td>-1.014250</td>\n",
       "      <td>-1.312504</td>\n",
       "      <td>0.431391</td>\n",
       "      <td>-0.038513</td>\n",
       "    </tr>\n",
       "    <tr>\n",
       "      <th>...</th>\n",
       "      <td>...</td>\n",
       "      <td>...</td>\n",
       "      <td>...</td>\n",
       "      <td>...</td>\n",
       "      <td>...</td>\n",
       "      <td>...</td>\n",
       "      <td>...</td>\n",
       "    </tr>\n",
       "    <tr>\n",
       "      <th>42151</th>\n",
       "      <td>0.058911</td>\n",
       "      <td>-1.300180</td>\n",
       "      <td>-0.769973</td>\n",
       "      <td>1.525696</td>\n",
       "      <td>-1.534880</td>\n",
       "      <td>0.496310</td>\n",
       "      <td>0.065825</td>\n",
       "    </tr>\n",
       "    <tr>\n",
       "      <th>42152</th>\n",
       "      <td>-1.709457</td>\n",
       "      <td>1.451957</td>\n",
       "      <td>1.341619</td>\n",
       "      <td>-0.923835</td>\n",
       "      <td>-0.750256</td>\n",
       "      <td>0.524305</td>\n",
       "      <td>-0.053250</td>\n",
       "    </tr>\n",
       "    <tr>\n",
       "      <th>42153</th>\n",
       "      <td>-0.738179</td>\n",
       "      <td>-0.718353</td>\n",
       "      <td>-0.878636</td>\n",
       "      <td>1.610613</td>\n",
       "      <td>-1.134875</td>\n",
       "      <td>0.719723</td>\n",
       "      <td>-0.006174</td>\n",
       "    </tr>\n",
       "    <tr>\n",
       "      <th>42154</th>\n",
       "      <td>0.577816</td>\n",
       "      <td>-0.825758</td>\n",
       "      <td>-0.814424</td>\n",
       "      <td>-1.397640</td>\n",
       "      <td>1.173584</td>\n",
       "      <td>1.364405</td>\n",
       "      <td>0.032147</td>\n",
       "    </tr>\n",
       "    <tr>\n",
       "      <th>42155</th>\n",
       "      <td>1.786699</td>\n",
       "      <td>1.678124</td>\n",
       "      <td>-1.317949</td>\n",
       "      <td>-0.299902</td>\n",
       "      <td>-0.250765</td>\n",
       "      <td>-0.373448</td>\n",
       "      <td>-0.118224</td>\n",
       "    </tr>\n",
       "  </tbody>\n",
       "</table>\n",
       "<p>42156 rows × 7 columns</p>\n",
       "</div>"
      ],
      "text/plain": [
       "              0         1         2         3         4         5         6\n",
       "0      0.662371 -1.501612 -0.602141 -1.544715  0.615640  0.806596  0.730567\n",
       "1     -2.799253  1.359548  1.220022 -0.816934 -0.160953 -0.026566 -1.102495\n",
       "2      0.334586 -1.535491 -0.429115  1.510595 -1.685778  0.530323 -0.291950\n",
       "3     -3.648238  0.530249 -1.013583  0.243336  1.487058 -1.561101 -0.696102\n",
       "4     -1.742039  0.941067  1.838339 -1.014250 -1.312504  0.431391 -0.038513\n",
       "...         ...       ...       ...       ...       ...       ...       ...\n",
       "42151  0.058911 -1.300180 -0.769973  1.525696 -1.534880  0.496310  0.065825\n",
       "42152 -1.709457  1.451957  1.341619 -0.923835 -0.750256  0.524305 -0.053250\n",
       "42153 -0.738179 -0.718353 -0.878636  1.610613 -1.134875  0.719723 -0.006174\n",
       "42154  0.577816 -0.825758 -0.814424 -1.397640  1.173584  1.364405  0.032147\n",
       "42155  1.786699  1.678124 -1.317949 -0.299902 -0.250765 -0.373448 -0.118224\n",
       "\n",
       "[42156 rows x 7 columns]"
      ]
     },
     "execution_count": 12,
     "metadata": {},
     "output_type": "execute_result"
    }
   ],
   "source": [
    "df1 = pd.DataFrame(x_train)\n",
    "df1"
   ]
  },
  {
   "cell_type": "code",
   "execution_count": 13,
   "id": "f956e089-c977-49b8-b113-e05c20564024",
   "metadata": {},
   "outputs": [],
   "source": [
    "X=df1[[0,1,2,4]]\n",
    "y=df[\"AQI\"]"
   ]
  },
  {
   "cell_type": "code",
   "execution_count": 14,
   "id": "9d3b0d72-85f7-40b3-bbe9-de8c44272926",
   "metadata": {},
   "outputs": [
    {
     "name": "stdout",
     "output_type": "stream",
     "text": [
      "intercept : 41.256055342202764\n",
      "intercept : [ 9.07483267  7.47837436 -3.66877983  0.          0.44186048  0.\n",
      "  0.        ]\n",
      "Train R2 : 0.7372513525766713\n",
      "Test R2 : 0.7364393099483733\n",
      "CV Score : 0.7371722204815573\n"
     ]
    }
   ],
   "source": [
    "#modeling\n",
    "from sklearn.linear_model import Lasso\n",
    "mod = Lasso(alpha=1)\n",
    "mod.fit(x_train,y_train)\n",
    "print('intercept :',mod.intercept_)\n",
    "print('intercept :',mod.coef_)\n",
    "\n",
    "\n",
    "#predection\n",
    "x_train_pred = mod.predict(x_train)\n",
    "x_test_pred = mod.predict(x_test)\n",
    "\n",
    "#evolution\n",
    "print('Train R2 :',mod.score(x_train,y_train))\n",
    "print('Test R2 :',mod.score(x_test,y_test))\n",
    "\n",
    "#CV Score\n",
    "from sklearn.model_selection import cross_val_score\n",
    "cv = cross_val_score(mod,x_train,y_train,cv=5,scoring='r2')\n",
    "print('CV Score :',cv.mean())"
   ]
  },
  {
   "cell_type": "code",
   "execution_count": 15,
   "id": "af3c7911-cc22-477e-aefd-3ac78a294e4d",
   "metadata": {},
   "outputs": [
    {
     "name": "stdout",
     "output_type": "stream",
     "text": [
      "Train RMSE : 13.565447061400716\n",
      "Test RMSE : 13.993855637990471\n",
      "CV Score : 13.566639569442831\n"
     ]
    }
   ],
   "source": [
    "#Checking RMSE\n",
    "from sklearn.metrics import mean_squared_error\n",
    "Train_MSE=mean_squared_error(y_train,x_train_pred)\n",
    "Test_MSE=mean_squared_error(y_test,x_test_pred)\n",
    "print('Train RMSE :',Train_MSE**0.5)\n",
    "print('Test RMSE :',Test_MSE**0.5)\n",
    "cv = cross_val_score(mod,x_train,y_train,cv=5,scoring='neg_mean_squared_error')\n",
    "cv = abs(cv.mean())\n",
    "print ('CV Score :',cv**0.5)"
   ]
  }
 ],
 "metadata": {
  "kernelspec": {
   "display_name": "Python [conda env:base] *",
   "language": "python",
   "name": "conda-base-py"
  },
  "language_info": {
   "codemirror_mode": {
    "name": "ipython",
    "version": 3
   },
   "file_extension": ".py",
   "mimetype": "text/x-python",
   "name": "python",
   "nbconvert_exporter": "python",
   "pygments_lexer": "ipython3",
   "version": "3.12.7"
  }
 },
 "nbformat": 4,
 "nbformat_minor": 5
}
