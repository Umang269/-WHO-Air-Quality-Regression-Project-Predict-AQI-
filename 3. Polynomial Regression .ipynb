{
 "cells": [
  {
   "cell_type": "code",
   "execution_count": 1,
   "id": "71afd650-6fd3-4bb4-a3f5-60a86ed14cd2",
   "metadata": {},
   "outputs": [],
   "source": [
    "import pandas as pd\n",
    "import numpy as np\n",
    "import seaborn as sns\n",
    "from scipy import stats\n",
    "import matplotlib.pyplot as plt"
   ]
  },
  {
   "cell_type": "code",
   "execution_count": 2,
   "id": "c2a17afa-4a7c-478a-bcf9-f6f9089ac090",
   "metadata": {},
   "outputs": [],
   "source": [
    "df = pd.read_csv('Cleaned_Data')"
   ]
  },
  {
   "cell_type": "code",
   "execution_count": 3,
   "id": "cd9a42ba-86d6-4119-a87d-5860fe3ba0cd",
   "metadata": {},
   "outputs": [],
   "source": [
    "X=df.drop(columns='AQI')\n",
    "y=df[\"AQI\"]"
   ]
  },
  {
   "cell_type": "code",
   "execution_count": 4,
   "id": "2482a106-7cc8-4b3c-9f65-d7344eada621",
   "metadata": {},
   "outputs": [],
   "source": [
    "from sklearn.preprocessing import StandardScaler\n",
    "sc = StandardScaler()\n",
    "X = sc.fit_transform(X)"
   ]
  },
  {
   "cell_type": "code",
   "execution_count": 5,
   "id": "b7cdb41b-4864-4c47-b2e1-6ff286cecae6",
   "metadata": {},
   "outputs": [],
   "source": [
    "from sklearn.model_selection import train_test_split\n",
    "x_train,x_test,y_train,y_test = train_test_split(X, y, train_size=0.8, random_state=10)"
   ]
  },
  {
   "cell_type": "code",
   "execution_count": 6,
   "id": "4d79bde2-1a1e-4fa8-a171-b84166cc62b4",
   "metadata": {},
   "outputs": [],
   "source": [
    "from sklearn.decomposition import PCA\n",
    "pc = PCA(n_components=0.95)\n",
    "x_train = pc.fit_transform(x_train)\n",
    "x_test = pc.transform(x_test)"
   ]
  },
  {
   "cell_type": "code",
   "execution_count": 7,
   "id": "478a056a-5595-4f35-9b4c-84c3fd958394",
   "metadata": {},
   "outputs": [
    {
     "data": {
      "text/plain": [
       "array([0.40647262, 0.14163057, 0.13359959, 0.10952585, 0.10803623,\n",
       "       0.0461153 , 0.02457858])"
      ]
     },
     "execution_count": 7,
     "metadata": {},
     "output_type": "execute_result"
    }
   ],
   "source": [
    "pc.explained_variance_ratio_"
   ]
  },
  {
   "cell_type": "code",
   "execution_count": 8,
   "id": "25530d9d-485c-4fda-936d-ec176fa9873a",
   "metadata": {},
   "outputs": [
    {
     "name": "stdout",
     "output_type": "stream",
     "text": [
      "intercept : 1229971.0772289915\n",
      "Train R2 : 0.9033593292226223\n",
      "Test R2 : 0.9015630247188964\n",
      "CV Score : 0.8944024385436391\n"
     ]
    }
   ],
   "source": [
    "from sklearn.preprocessing import PolynomialFeatures\n",
    "pc = PolynomialFeatures(degree=5,include_bias=False)\n",
    "x_train = pd.DataFrame(pc.fit_transform(x_train))\n",
    "x_test = pd.DataFrame(pc.transform(x_test))\n",
    "\n",
    "#modeling\n",
    "from sklearn.linear_model import LinearRegression\n",
    "mod = LinearRegression()\n",
    "mod.fit(x_train,y_train)\n",
    "print('intercept :',mod.intercept_)\n",
    "\n",
    "#predection\n",
    "x_train_pred = mod.predict(x_train)\n",
    "x_test_pred = mod.predict(x_test)\n",
    "\n",
    "#evolution\n",
    "print('Train R2 :',mod.score(x_train,y_train))\n",
    "print('Test R2 :',mod.score(x_test,y_test))\n",
    "\n",
    "#CV Score\n",
    "from sklearn.model_selection import cross_val_score\n",
    "cv = cross_val_score(mod,x_train,y_train,cv=5,scoring='r2')\n",
    "print('CV Score :',cv.mean())"
   ]
  },
  {
   "cell_type": "code",
   "execution_count": 9,
   "id": "f956e089-c977-49b8-b113-e05c20564024",
   "metadata": {},
   "outputs": [
    {
     "name": "stdout",
     "output_type": "stream",
     "text": [
      "Train RMSE : 8.227044269183562\n",
      "Test RMSE : 8.552167566961034\n",
      "CV Score : 8.597488503831565\n"
     ]
    }
   ],
   "source": [
    "#Checking RMSE\n",
    "from sklearn.metrics import mean_squared_error\n",
    "Train_MSE=mean_squared_error(y_train,x_train_pred)\n",
    "Test_MSE=mean_squared_error(y_test,x_test_pred)\n",
    "print('Train RMSE :',Train_MSE**0.5)\n",
    "print('Test RMSE :',Test_MSE**0.5)\n",
    "cv = cross_val_score(mod,x_train,y_train,cv=5,scoring='neg_mean_squared_error')\n",
    "cv = abs(cv.mean())\n",
    "print ('CV Score :',cv**0.5)"
   ]
  },
  {
   "cell_type": "code",
   "execution_count": 10,
   "id": "07e65a26-8039-4afb-8789-b3d5fe7f12e4",
   "metadata": {},
   "outputs": [
    {
     "data": {
      "text/plain": [
       "['polynomial_model.joblib']"
      ]
     },
     "execution_count": 10,
     "metadata": {},
     "output_type": "execute_result"
    }
   ],
   "source": [
    "import joblib\n",
    "joblib.dump(mod, 'polynomial_model.joblib')"
   ]
  }
 ],
 "metadata": {
  "kernelspec": {
   "display_name": "Python [conda env:base] *",
   "language": "python",
   "name": "conda-base-py"
  },
  "language_info": {
   "codemirror_mode": {
    "name": "ipython",
    "version": 3
   },
   "file_extension": ".py",
   "mimetype": "text/x-python",
   "name": "python",
   "nbconvert_exporter": "python",
   "pygments_lexer": "ipython3",
   "version": "3.12.7"
  }
 },
 "nbformat": 4,
 "nbformat_minor": 5
}
