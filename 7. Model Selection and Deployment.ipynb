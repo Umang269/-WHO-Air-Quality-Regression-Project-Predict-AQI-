{
 "cells": [
  {
   "cell_type": "code",
   "execution_count": 1,
   "id": "54ddfff9-9f5e-4a09-83cd-f82e8e1c2100",
   "metadata": {},
   "outputs": [],
   "source": [
    "import pandas as pd\n",
    "import joblib\n",
    "import numpy as np\n",
    "import warnings\n",
    "from scipy.special import boxcox\n",
    "warnings.filterwarnings('ignore')"
   ]
  },
  {
   "cell_type": "markdown",
   "id": "49ea432a-f4e8-465a-8876-b10a704e80dc",
   "metadata": {},
   "source": [
    "**Collecting Future Data**"
   ]
  },
  {
   "cell_type": "code",
   "execution_count": 3,
   "id": "50aaa5f1-1042-41c2-a000-9c6d6bd4f2fe",
   "metadata": {},
   "outputs": [
    {
     "name": "stdin",
     "output_type": "stream",
     "text": [
      "Date:  2024-01-12\n",
      "CO :  260\n",
      "CO2 :  0\n",
      "NO2 :  58.2\n",
      "SO2 :  8.3\n",
      "O3 :  11.0\n",
      "PM2.5 :  12.4\n",
      "PM10 :  19.5\n"
     ]
    }
   ],
   "source": [
    "date= [input(\"Date: \")]\n",
    "CO  = [float(input(\"CO : \"))]\n",
    "CO2 = [float(input(\"CO2 : \"))]\n",
    "NO2 = [float(input(\"NO2 : \"))]\n",
    "SO2 = [float(input(\"SO2 : \"))]\n",
    "O3  = [float(input(\"O3 : \"))]\n",
    "PM25= [float(input(\"PM2.5 : \"))]\n",
    "PM10= [float(input(\"PM10 : \"))]"
   ]
  },
  {
   "cell_type": "code",
   "execution_count": 34,
   "id": "72359b0c-c765-406c-8189-d2f3c1ec6bea",
   "metadata": {},
   "outputs": [],
   "source": [
    "df = pd.DataFrame({'date':date, 'CO':CO,'CO2': CO2,'NO2': NO2,\n",
    "                         'SO2': SO2,'O3': O3,'PM2.5': PM25,'PM10': PM10})"
   ]
  },
  {
   "cell_type": "code",
   "execution_count": 36,
   "id": "2791f047-ac7c-4048-a972-e9f32f053a4c",
   "metadata": {},
   "outputs": [
    {
     "name": "stdin",
     "output_type": "stream",
     "text": [
      "City : ('CityBrasilia','City_Cairo', 'City_Dubai', 'City_London', 'City_New York', 'City_Sydney) :  City_London\n"
     ]
    }
   ],
   "source": [
    "cities= input(\"City : ('CityBrasilia','City_Cairo', 'City_Dubai', 'City_London', 'City_New York', 'City_Sydney) : \")\n",
    "City=['City_Cairo', 'City_Dubai', 'City_London', 'City_New York', 'City_Sydney']\n",
    "for i in City:\n",
    "    if cities == i:\n",
    "        df[str(i)] = 1\n",
    "    else:\n",
    "        df[str(i)] = 0"
   ]
  },
  {
   "cell_type": "code",
   "execution_count": 38,
   "id": "685be0f8-e718-4fc4-b487-3650dda406b8",
   "metadata": {},
   "outputs": [],
   "source": [
    "df.drop(columns=['CO2','date'],inplace=True)"
   ]
  },
  {
   "cell_type": "code",
   "execution_count": 40,
   "id": "6234c995-1ed9-4034-91f6-9023aa065938",
   "metadata": {},
   "outputs": [],
   "source": [
    "lambda_co = -0.2197979346000403\n",
    "df['CO'] = boxcox(df['CO'] + 0.00001, lambda_co)"
   ]
  },
  {
   "cell_type": "code",
   "execution_count": 42,
   "id": "d241c425-d94a-4742-8ae9-d1f33e123645",
   "metadata": {},
   "outputs": [],
   "source": [
    "lambda_co = 0.31046224092617164\n",
    "df['NO2'] = boxcox(df['NO2'] + 0.00001, lambda_co)"
   ]
  },
  {
   "cell_type": "code",
   "execution_count": 44,
   "id": "21cba7b7-c991-4db5-8354-188e0e6fda6b",
   "metadata": {},
   "outputs": [],
   "source": [
    "lambda_co = 0.010494354891370994\n",
    "df['SO2'] = boxcox(df['SO2'] + 0.00001, lambda_co)"
   ]
  },
  {
   "cell_type": "code",
   "execution_count": 46,
   "id": "ced07e6c-69b1-4d9c-bbdb-65c8d8a72187",
   "metadata": {},
   "outputs": [],
   "source": [
    "lambda_co = 0.4856315547999055\n",
    "df['O3'] = boxcox(df['O3'] + 0.00001, lambda_co)"
   ]
  },
  {
   "cell_type": "code",
   "execution_count": 48,
   "id": "6b804688-423d-40ee-b0f5-97bbcf1d52cd",
   "metadata": {},
   "outputs": [],
   "source": [
    "lambda_co = 0.09266443105843085\n",
    "df['PM2.5'] = boxcox(df['PM2.5'] + 0.00001, lambda_co)"
   ]
  },
  {
   "cell_type": "code",
   "execution_count": 50,
   "id": "ab96cfa9-68d0-4b79-9582-e848dd1730f4",
   "metadata": {},
   "outputs": [],
   "source": [
    "lambda_co = -0.0693085570328649\n",
    "df['PM10'] = boxcox(df['PM10'] + 0.00001, lambda_co)"
   ]
  },
  {
   "cell_type": "code",
   "execution_count": 52,
   "id": "e01d0f4b-7786-4021-a0ad-0cd8ec82b64f",
   "metadata": {},
   "outputs": [
    {
     "name": "stdout",
     "output_type": "stream",
     "text": [
      "Predicted AQI: [26.57304244]\n"
     ]
    }
   ],
   "source": [
    "scaler = joblib.load('scaler.joblib')\n",
    "pca = joblib.load('pca.joblib')\n",
    "poly = joblib.load('poly_features.joblib')\n",
    "model = joblib.load('polynomial_model.joblib')\n",
    "\n",
    "new_data_scaled = scaler.transform(df)\n",
    "new_data_pca = pca.transform(new_data_scaled)\n",
    "new_data_poly = poly.transform(new_data_pca)\n",
    "prediction = model.predict(new_data_poly)\n",
    "\n",
    "print(\"Predicted AQI:\", prediction)\n"
   ]
  },
  {
   "cell_type": "markdown",
   "id": "0ea9af03-2d57-4efc-8cbb-3f56349a6541",
   "metadata": {},
   "source": [
    "**Actual AQI is 27.28**"
   ]
  }
 ],
 "metadata": {
  "kernelspec": {
   "display_name": "Python [conda env:base] *",
   "language": "python",
   "name": "conda-base-py"
  },
  "language_info": {
   "codemirror_mode": {
    "name": "ipython",
    "version": 3
   },
   "file_extension": ".py",
   "mimetype": "text/x-python",
   "name": "python",
   "nbconvert_exporter": "python",
   "pygments_lexer": "ipython3",
   "version": "3.12.7"
  }
 },
 "nbformat": 4,
 "nbformat_minor": 5
}
