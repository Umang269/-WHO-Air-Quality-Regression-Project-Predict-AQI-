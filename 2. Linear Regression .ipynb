{
 "cells": [
  {
   "cell_type": "code",
   "execution_count": 1,
   "id": "71afd650-6fd3-4bb4-a3f5-60a86ed14cd2",
   "metadata": {},
   "outputs": [],
   "source": [
    "import pandas as pd\n",
    "import numpy as np\n",
    "import seaborn as sns\n",
    "from scipy import stats\n",
    "import matplotlib.pyplot as plt"
   ]
  },
  {
   "cell_type": "code",
   "execution_count": 2,
   "id": "c2a17afa-4a7c-478a-bcf9-f6f9089ac090",
   "metadata": {},
   "outputs": [],
   "source": [
    "df = pd.read_csv('Cleaned_Data')"
   ]
  },
  {
   "cell_type": "code",
   "execution_count": 3,
   "id": "cd9a42ba-86d6-4119-a87d-5860fe3ba0cd",
   "metadata": {},
   "outputs": [],
   "source": [
    "X=df.drop(columns='AQI')\n",
    "y=df[\"AQI\"]"
   ]
  },
  {
   "cell_type": "code",
   "execution_count": 4,
   "id": "abc9e3f5-10f7-4ecf-a578-92ca16f5b1e7",
   "metadata": {},
   "outputs": [],
   "source": [
    "from sklearn.preprocessing import StandardScaler\n",
    "sc = StandardScaler()\n",
    "X = sc.fit_transform(X)"
   ]
  },
  {
   "cell_type": "code",
   "execution_count": 5,
   "id": "b7cdb41b-4864-4c47-b2e1-6ff286cecae6",
   "metadata": {},
   "outputs": [],
   "source": [
    "from sklearn.model_selection import train_test_split\n",
    "x_train,x_test,y_train,y_test = train_test_split(X, y, train_size=0.8, random_state=10)"
   ]
  },
  {
   "cell_type": "code",
   "execution_count": 6,
   "id": "a48101a0-4a1b-4d73-b4a6-ec7aa8da5bb3",
   "metadata": {},
   "outputs": [],
   "source": [
    "from sklearn.decomposition import PCA\n",
    "pc = PCA(n_components=0.95)\n",
    "x_train = pc.fit_transform(x_train)\n",
    "x_test = pc.transform(x_test)"
   ]
  },
  {
   "cell_type": "code",
   "execution_count": 7,
   "id": "12e23889-6a9b-40d5-95cc-05bec4d4e9d5",
   "metadata": {},
   "outputs": [
    {
     "data": {
      "text/plain": [
       "array([0.40647262, 0.14163057, 0.13359959, 0.10952585, 0.10803623,\n",
       "       0.0461153 , 0.02457858])"
      ]
     },
     "execution_count": 7,
     "metadata": {},
     "output_type": "execute_result"
    }
   ],
   "source": [
    "pc.explained_variance_ratio_"
   ]
  },
  {
   "cell_type": "code",
   "execution_count": 8,
   "id": "25530d9d-485c-4fda-936d-ec176fa9873a",
   "metadata": {},
   "outputs": [
    {
     "name": "stdout",
     "output_type": "stream",
     "text": [
      "intercept : 41.256055342202764\n",
      "Train R2 : 0.7468893056585886\n",
      "Test R2 : 0.7471844413844377\n",
      "CV Score : 0.7467239622147688\n"
     ]
    }
   ],
   "source": [
    "#modeling\n",
    "from sklearn.linear_model import LinearRegression\n",
    "mod = LinearRegression()\n",
    "mod.fit(x_train,y_train)\n",
    "print('intercept :',mod.intercept_)\n",
    "\n",
    "#predection\n",
    "x_train_pred = mod.predict(x_train)\n",
    "x_test_pred = mod.predict(x_test)\n",
    "\n",
    "#evolution\n",
    "print('Train R2 :',mod.score(x_train,y_train))\n",
    "print('Test R2 :',mod.score(x_test,y_test))\n",
    "\n",
    "#CV Score\n",
    "from sklearn.model_selection import cross_val_score\n",
    "cv = cross_val_score(mod,x_train,y_train,cv=5,scoring='r2')\n",
    "print('CV Score :',cv.mean())"
   ]
  },
  {
   "cell_type": "code",
   "execution_count": 9,
   "id": "f956e089-c977-49b8-b113-e05c20564024",
   "metadata": {},
   "outputs": [
    {
     "name": "stdout",
     "output_type": "stream",
     "text": [
      "Train RMSE : 13.314323779393911\n",
      "Test RMSE : 13.705628952934223\n",
      "CV Score : 13.31774393335168\n"
     ]
    }
   ],
   "source": [
    "#Checking RMSE\n",
    "from sklearn.metrics import mean_squared_error\n",
    "Train_MSE=mean_squared_error(y_train,x_train_pred)\n",
    "Test_MSE=mean_squared_error(y_test,x_test_pred)\n",
    "print('Train RMSE :',Train_MSE**0.5)\n",
    "print('Test RMSE :',Test_MSE**0.5)\n",
    "cv = cross_val_score(mod,x_train,y_train,cv=5,scoring='neg_mean_squared_error')\n",
    "cv = abs(cv.mean())\n",
    "print ('CV Score :',cv**0.5)"
   ]
  },
  {
   "cell_type": "code",
   "execution_count": 10,
   "id": "04e93f0f-f206-4846-9086-dadd2308b57d",
   "metadata": {},
   "outputs": [
    {
     "data": {
      "text/html": [
       "<table class=\"simpletable\">\n",
       "<caption>OLS Regression Results</caption>\n",
       "<tr>\n",
       "  <th>Dep. Variable:</th>            <td>y</td>        <th>  R-squared:         </th>  <td>   0.760</td>  \n",
       "</tr>\n",
       "<tr>\n",
       "  <th>Model:</th>                   <td>OLS</td>       <th>  Adj. R-squared:    </th>  <td>   0.760</td>  \n",
       "</tr>\n",
       "<tr>\n",
       "  <th>Method:</th>             <td>Least Squares</td>  <th>  F-statistic:       </th>  <td>1.516e+04</td> \n",
       "</tr>\n",
       "<tr>\n",
       "  <th>Date:</th>             <td>Sun, 13 Jul 2025</td> <th>  Prob (F-statistic):</th>   <td>  0.00</td>   \n",
       "</tr>\n",
       "<tr>\n",
       "  <th>Time:</th>                 <td>11:11:54</td>     <th>  Log-Likelihood:    </th> <td>-2.1012e+05</td>\n",
       "</tr>\n",
       "<tr>\n",
       "  <th>No. Observations:</th>      <td> 52696</td>      <th>  AIC:               </th>  <td>4.203e+05</td> \n",
       "</tr>\n",
       "<tr>\n",
       "  <th>Df Residuals:</th>          <td> 52684</td>      <th>  BIC:               </th>  <td>4.204e+05</td> \n",
       "</tr>\n",
       "<tr>\n",
       "  <th>Df Model:</th>              <td>    11</td>      <th>                     </th>      <td> </td>     \n",
       "</tr>\n",
       "<tr>\n",
       "  <th>Covariance Type:</th>      <td>nonrobust</td>    <th>                     </th>      <td> </td>     \n",
       "</tr>\n",
       "</table>\n",
       "<table class=\"simpletable\">\n",
       "<tr>\n",
       "      <td></td>         <th>coef</th>     <th>std err</th>      <th>t</th>      <th>P>|t|</th>  <th>[0.025</th>    <th>0.975]</th>  \n",
       "</tr>\n",
       "<tr>\n",
       "  <th>Intercept</th> <td>   41.3452</td> <td>    0.057</td> <td>  727.383</td> <td> 0.000</td> <td>   41.234</td> <td>   41.457</td>\n",
       "</tr>\n",
       "<tr>\n",
       "  <th>X[0]</th>      <td>    3.0204</td> <td>    0.139</td> <td>   21.654</td> <td> 0.000</td> <td>    2.747</td> <td>    3.294</td>\n",
       "</tr>\n",
       "<tr>\n",
       "  <th>X[1]</th>      <td>   -6.0420</td> <td>    0.155</td> <td>  -38.948</td> <td> 0.000</td> <td>   -6.346</td> <td>   -5.738</td>\n",
       "</tr>\n",
       "<tr>\n",
       "  <th>X[2]</th>      <td>    3.1262</td> <td>    0.179</td> <td>   17.448</td> <td> 0.000</td> <td>    2.775</td> <td>    3.477</td>\n",
       "</tr>\n",
       "<tr>\n",
       "  <th>X[3]</th>      <td>    2.9545</td> <td>    0.086</td> <td>   34.443</td> <td> 0.000</td> <td>    2.786</td> <td>    3.123</td>\n",
       "</tr>\n",
       "<tr>\n",
       "  <th>X[4]</th>      <td>    3.3685</td> <td>    0.297</td> <td>   11.339</td> <td> 0.000</td> <td>    2.786</td> <td>    3.951</td>\n",
       "</tr>\n",
       "<tr>\n",
       "  <th>X[5]</th>      <td>    9.2680</td> <td>    0.284</td> <td>   32.626</td> <td> 0.000</td> <td>    8.711</td> <td>    9.825</td>\n",
       "</tr>\n",
       "<tr>\n",
       "  <th>X[6]</th>      <td>    2.5980</td> <td>    0.159</td> <td>   16.332</td> <td> 0.000</td> <td>    2.286</td> <td>    2.910</td>\n",
       "</tr>\n",
       "<tr>\n",
       "  <th>X[7]</th>      <td>   10.6565</td> <td>    0.146</td> <td>   72.889</td> <td> 0.000</td> <td>   10.370</td> <td>   10.943</td>\n",
       "</tr>\n",
       "<tr>\n",
       "  <th>X[8]</th>      <td>    0.4888</td> <td>    0.093</td> <td>    5.261</td> <td> 0.000</td> <td>    0.307</td> <td>    0.671</td>\n",
       "</tr>\n",
       "<tr>\n",
       "  <th>X[9]</th>      <td>    0.7887</td> <td>    0.094</td> <td>    8.417</td> <td> 0.000</td> <td>    0.605</td> <td>    0.972</td>\n",
       "</tr>\n",
       "<tr>\n",
       "  <th>X[10]</th>     <td>   -1.4232</td> <td>    0.125</td> <td>  -11.386</td> <td> 0.000</td> <td>   -1.668</td> <td>   -1.178</td>\n",
       "</tr>\n",
       "</table>\n",
       "<table class=\"simpletable\">\n",
       "<tr>\n",
       "  <th>Omnibus:</th>       <td>15428.740</td> <th>  Durbin-Watson:     </th> <td>   0.053</td> \n",
       "</tr>\n",
       "<tr>\n",
       "  <th>Prob(Omnibus):</th>  <td> 0.000</td>   <th>  Jarque-Bera (JB):  </th> <td>76590.134</td>\n",
       "</tr>\n",
       "<tr>\n",
       "  <th>Skew:</th>           <td> 1.336</td>   <th>  Prob(JB):          </th> <td>    0.00</td> \n",
       "</tr>\n",
       "<tr>\n",
       "  <th>Kurtosis:</th>       <td> 8.267</td>   <th>  Cond. No.          </th> <td>    15.3</td> \n",
       "</tr>\n",
       "</table><br/><br/>Notes:<br/>[1] Standard Errors assume that the covariance matrix of the errors is correctly specified."
      ],
      "text/latex": [
       "\\begin{center}\n",
       "\\begin{tabular}{lclc}\n",
       "\\toprule\n",
       "\\textbf{Dep. Variable:}    &        y         & \\textbf{  R-squared:         } &      0.760   \\\\\n",
       "\\textbf{Model:}            &       OLS        & \\textbf{  Adj. R-squared:    } &      0.760   \\\\\n",
       "\\textbf{Method:}           &  Least Squares   & \\textbf{  F-statistic:       } &  1.516e+04   \\\\\n",
       "\\textbf{Date:}             & Sun, 13 Jul 2025 & \\textbf{  Prob (F-statistic):} &      0.00    \\\\\n",
       "\\textbf{Time:}             &     11:11:54     & \\textbf{  Log-Likelihood:    } & -2.1012e+05  \\\\\n",
       "\\textbf{No. Observations:} &       52696      & \\textbf{  AIC:               } &  4.203e+05   \\\\\n",
       "\\textbf{Df Residuals:}     &       52684      & \\textbf{  BIC:               } &  4.204e+05   \\\\\n",
       "\\textbf{Df Model:}         &          11      & \\textbf{                     } &              \\\\\n",
       "\\textbf{Covariance Type:}  &    nonrobust     & \\textbf{                     } &              \\\\\n",
       "\\bottomrule\n",
       "\\end{tabular}\n",
       "\\begin{tabular}{lcccccc}\n",
       "                   & \\textbf{coef} & \\textbf{std err} & \\textbf{t} & \\textbf{P$> |$t$|$} & \\textbf{[0.025} & \\textbf{0.975]}  \\\\\n",
       "\\midrule\n",
       "\\textbf{Intercept} &      41.3452  &        0.057     &   727.383  &         0.000        &       41.234    &       41.457     \\\\\n",
       "\\textbf{X[0]}      &       3.0204  &        0.139     &    21.654  &         0.000        &        2.747    &        3.294     \\\\\n",
       "\\textbf{X[1]}      &      -6.0420  &        0.155     &   -38.948  &         0.000        &       -6.346    &       -5.738     \\\\\n",
       "\\textbf{X[2]}      &       3.1262  &        0.179     &    17.448  &         0.000        &        2.775    &        3.477     \\\\\n",
       "\\textbf{X[3]}      &       2.9545  &        0.086     &    34.443  &         0.000        &        2.786    &        3.123     \\\\\n",
       "\\textbf{X[4]}      &       3.3685  &        0.297     &    11.339  &         0.000        &        2.786    &        3.951     \\\\\n",
       "\\textbf{X[5]}      &       9.2680  &        0.284     &    32.626  &         0.000        &        8.711    &        9.825     \\\\\n",
       "\\textbf{X[6]}      &       2.5980  &        0.159     &    16.332  &         0.000        &        2.286    &        2.910     \\\\\n",
       "\\textbf{X[7]}      &      10.6565  &        0.146     &    72.889  &         0.000        &       10.370    &       10.943     \\\\\n",
       "\\textbf{X[8]}      &       0.4888  &        0.093     &     5.261  &         0.000        &        0.307    &        0.671     \\\\\n",
       "\\textbf{X[9]}      &       0.7887  &        0.094     &     8.417  &         0.000        &        0.605    &        0.972     \\\\\n",
       "\\textbf{X[10]}     &      -1.4232  &        0.125     &   -11.386  &         0.000        &       -1.668    &       -1.178     \\\\\n",
       "\\bottomrule\n",
       "\\end{tabular}\n",
       "\\begin{tabular}{lclc}\n",
       "\\textbf{Omnibus:}       & 15428.740 & \\textbf{  Durbin-Watson:     } &     0.053  \\\\\n",
       "\\textbf{Prob(Omnibus):} &    0.000  & \\textbf{  Jarque-Bera (JB):  } & 76590.134  \\\\\n",
       "\\textbf{Skew:}          &    1.336  & \\textbf{  Prob(JB):          } &      0.00  \\\\\n",
       "\\textbf{Kurtosis:}      &    8.267  & \\textbf{  Cond. No.          } &      15.3  \\\\\n",
       "\\bottomrule\n",
       "\\end{tabular}\n",
       "%\\caption{OLS Regression Results}\n",
       "\\end{center}\n",
       "\n",
       "Notes: \\newline\n",
       " [1] Standard Errors assume that the covariance matrix of the errors is correctly specified."
      ],
      "text/plain": [
       "<class 'statsmodels.iolib.summary.Summary'>\n",
       "\"\"\"\n",
       "                            OLS Regression Results                            \n",
       "==============================================================================\n",
       "Dep. Variable:                      y   R-squared:                       0.760\n",
       "Model:                            OLS   Adj. R-squared:                  0.760\n",
       "Method:                 Least Squares   F-statistic:                 1.516e+04\n",
       "Date:                Sun, 13 Jul 2025   Prob (F-statistic):               0.00\n",
       "Time:                        11:11:54   Log-Likelihood:            -2.1012e+05\n",
       "No. Observations:               52696   AIC:                         4.203e+05\n",
       "Df Residuals:                   52684   BIC:                         4.204e+05\n",
       "Df Model:                          11                                         \n",
       "Covariance Type:            nonrobust                                         \n",
       "==============================================================================\n",
       "                 coef    std err          t      P>|t|      [0.025      0.975]\n",
       "------------------------------------------------------------------------------\n",
       "Intercept     41.3452      0.057    727.383      0.000      41.234      41.457\n",
       "X[0]           3.0204      0.139     21.654      0.000       2.747       3.294\n",
       "X[1]          -6.0420      0.155    -38.948      0.000      -6.346      -5.738\n",
       "X[2]           3.1262      0.179     17.448      0.000       2.775       3.477\n",
       "X[3]           2.9545      0.086     34.443      0.000       2.786       3.123\n",
       "X[4]           3.3685      0.297     11.339      0.000       2.786       3.951\n",
       "X[5]           9.2680      0.284     32.626      0.000       8.711       9.825\n",
       "X[6]           2.5980      0.159     16.332      0.000       2.286       2.910\n",
       "X[7]          10.6565      0.146     72.889      0.000      10.370      10.943\n",
       "X[8]           0.4888      0.093      5.261      0.000       0.307       0.671\n",
       "X[9]           0.7887      0.094      8.417      0.000       0.605       0.972\n",
       "X[10]         -1.4232      0.125    -11.386      0.000      -1.668      -1.178\n",
       "==============================================================================\n",
       "Omnibus:                    15428.740   Durbin-Watson:                   0.053\n",
       "Prob(Omnibus):                  0.000   Jarque-Bera (JB):            76590.134\n",
       "Skew:                           1.336   Prob(JB):                         0.00\n",
       "Kurtosis:                       8.267   Cond. No.                         15.3\n",
       "==============================================================================\n",
       "\n",
       "Notes:\n",
       "[1] Standard Errors assume that the covariance matrix of the errors is correctly specified.\n",
       "\"\"\""
      ]
     },
     "execution_count": 10,
     "metadata": {},
     "output_type": "execute_result"
    }
   ],
   "source": [
    "import statsmodels.formula.api as smf\n",
    "mod = smf.ols('y~X',data=df).fit()\n",
    "mod.summary()"
   ]
  }
 ],
 "metadata": {
  "kernelspec": {
   "display_name": "Python [conda env:base] *",
   "language": "python",
   "name": "conda-base-py"
  },
  "language_info": {
   "codemirror_mode": {
    "name": "ipython",
    "version": 3
   },
   "file_extension": ".py",
   "mimetype": "text/x-python",
   "name": "python",
   "nbconvert_exporter": "python",
   "pygments_lexer": "ipython3",
   "version": "3.12.7"
  }
 },
 "nbformat": 4,
 "nbformat_minor": 5
}
