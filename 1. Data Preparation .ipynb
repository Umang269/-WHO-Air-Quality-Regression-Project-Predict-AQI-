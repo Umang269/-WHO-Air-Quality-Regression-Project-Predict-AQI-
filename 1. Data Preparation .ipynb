{
 "cells": [
  {
   "cell_type": "code",
   "execution_count": 1,
   "id": "9c7a9a73-43ee-4b7f-ab2a-0f3fe1133337",
   "metadata": {},
   "outputs": [],
   "source": [
    "import pandas as pd\n",
    "import numpy as np\n",
    "import seaborn as sns\n",
    "from scipy import stats\n",
    "import matplotlib.pyplot as plt"
   ]
  },
  {
   "cell_type": "markdown",
   "id": "d2fe1a82-a7eb-4a24-8971-88fc51d7005b",
   "metadata": {},
   "source": [
    "**Data Understanding**"
   ]
  },
  {
   "cell_type": "code",
   "execution_count": 3,
   "id": "6c63c696-08e0-4efa-9c2e-ad22e80e5dd3",
   "metadata": {},
   "outputs": [],
   "source": [
    "df = pd.read_csv('Air_Quality.csv')"
   ]
  },
  {
   "cell_type": "code",
   "execution_count": 4,
   "id": "28fdc3d6-7b48-49c7-aa0c-f898558dd6d2",
   "metadata": {},
   "outputs": [
    {
     "data": {
      "text/plain": [
       "(52704, 10)"
      ]
     },
     "execution_count": 4,
     "metadata": {},
     "output_type": "execute_result"
    }
   ],
   "source": [
    "df.shape"
   ]
  },
  {
   "cell_type": "code",
   "execution_count": 5,
   "id": "4aaabcdf-9d36-41ab-9704-bc729efb2bfe",
   "metadata": {},
   "outputs": [
    {
     "data": {
      "text/plain": [
       "Date         0\n",
       "City         0\n",
       "CO           0\n",
       "CO2      43056\n",
       "NO2          0\n",
       "SO2          0\n",
       "O3           0\n",
       "PM2.5        0\n",
       "PM10         0\n",
       "AQI          0\n",
       "dtype: int64"
      ]
     },
     "execution_count": 5,
     "metadata": {},
     "output_type": "execute_result"
    }
   ],
   "source": [
    "df.isnull().sum() #we have to delete the co2 columns0"
   ]
  },
  {
   "cell_type": "code",
   "execution_count": 6,
   "id": "4ae14d56-b204-4c59-9e5f-dfcfb45da3b5",
   "metadata": {},
   "outputs": [
    {
     "data": {
      "text/plain": [
       "0"
      ]
     },
     "execution_count": 6,
     "metadata": {},
     "output_type": "execute_result"
    }
   ],
   "source": [
    "df.duplicated().sum()"
   ]
  },
  {
   "cell_type": "code",
   "execution_count": 7,
   "id": "247f66d3-1341-4da9-aad9-a31c96abeaa2",
   "metadata": {},
   "outputs": [
    {
     "data": {
      "text/plain": [
       "City\n",
       "Brasilia    8784\n",
       "Cairo       8784\n",
       "Dubai       8784\n",
       "London      8784\n",
       "New York    8784\n",
       "Sydney      8784\n",
       "Name: count, dtype: int64"
      ]
     },
     "execution_count": 7,
     "metadata": {},
     "output_type": "execute_result"
    }
   ],
   "source": [
    "df['City'].value_counts()"
   ]
  },
  {
   "cell_type": "code",
   "execution_count": 8,
   "id": "3a1221ef-76fd-463e-8c71-a9aff605c1db",
   "metadata": {},
   "outputs": [
    {
     "data": {
      "text/plain": [
       "['Date', 'City', 'CO', 'CO2', 'NO2', 'SO2', 'O3', 'PM2.5', 'PM10', 'AQI']"
      ]
     },
     "execution_count": 8,
     "metadata": {},
     "output_type": "execute_result"
    }
   ],
   "source": [
    "df.columns.tolist()"
   ]
  },
  {
   "cell_type": "code",
   "execution_count": 9,
   "id": "915e7030-d7e7-4f39-87ef-fd23ba000ef0",
   "metadata": {},
   "outputs": [
    {
     "data": {
      "text/plain": [
       "1094"
      ]
     },
     "execution_count": 9,
     "metadata": {},
     "output_type": "execute_result"
    }
   ],
   "source": [
    "df['CO'].nunique()"
   ]
  },
  {
   "cell_type": "code",
   "execution_count": 10,
   "id": "7c3f5d88-408e-403e-9234-e8d379e3bd59",
   "metadata": {},
   "outputs": [
    {
     "data": {
      "text/plain": [
       "count    52704.000000\n",
       "mean       258.258121\n",
       "std        159.589953\n",
       "min         52.000000\n",
       "25%        159.000000\n",
       "50%        213.000000\n",
       "75%        306.000000\n",
       "max       2045.000000\n",
       "Name: CO, dtype: float64"
      ]
     },
     "execution_count": 10,
     "metadata": {},
     "output_type": "execute_result"
    }
   ],
   "source": [
    "df['CO'].describe()"
   ]
  },
  {
   "cell_type": "code",
   "execution_count": 11,
   "id": "cddef71f-fbab-4347-afe5-af679ef15230",
   "metadata": {},
   "outputs": [
    {
     "data": {
      "text/plain": [
       "245"
      ]
     },
     "execution_count": 11,
     "metadata": {},
     "output_type": "execute_result"
    }
   ],
   "source": [
    "df['CO2'].nunique()"
   ]
  },
  {
   "cell_type": "code",
   "execution_count": 12,
   "id": "843eea06-729c-4522-bc02-ce8da3dbb649",
   "metadata": {},
   "outputs": [
    {
     "data": {
      "text/plain": [
       "1118"
      ]
     },
     "execution_count": 12,
     "metadata": {},
     "output_type": "execute_result"
    }
   ],
   "source": [
    "df['NO2'].nunique()"
   ]
  },
  {
   "cell_type": "code",
   "execution_count": 13,
   "id": "a9779589-930f-4dce-8c27-4ca04810484b",
   "metadata": {},
   "outputs": [
    {
     "data": {
      "text/plain": [
       "count    52704.000000\n",
       "mean        24.102998\n",
       "std         19.363443\n",
       "min          0.000000\n",
       "25%          9.700000\n",
       "50%         18.900000\n",
       "75%         33.400000\n",
       "max        165.900000\n",
       "Name: NO2, dtype: float64"
      ]
     },
     "execution_count": 13,
     "metadata": {},
     "output_type": "execute_result"
    }
   ],
   "source": [
    "df['NO2'].describe()"
   ]
  },
  {
   "cell_type": "code",
   "execution_count": 14,
   "id": "b63c2591-9db2-43ed-9905-ff867ae43965",
   "metadata": {},
   "outputs": [
    {
     "data": {
      "text/plain": [
       "1164"
      ]
     },
     "execution_count": 14,
     "metadata": {},
     "output_type": "execute_result"
    }
   ],
   "source": [
    "df['SO2'].nunique()"
   ]
  },
  {
   "cell_type": "code",
   "execution_count": 15,
   "id": "b9af56c8-7f33-4597-83a7-050a9e1fd4ea",
   "metadata": {},
   "outputs": [
    {
     "data": {
      "text/plain": [
       "count    52704.000000\n",
       "mean        12.569869\n",
       "std         17.266623\n",
       "min          0.000000\n",
       "25%          2.300000\n",
       "50%          5.700000\n",
       "75%         16.800000\n",
       "max        239.700000\n",
       "Name: SO2, dtype: float64"
      ]
     },
     "execution_count": 15,
     "metadata": {},
     "output_type": "execute_result"
    }
   ],
   "source": [
    "df['SO2'].describe()"
   ]
  },
  {
   "cell_type": "code",
   "execution_count": 16,
   "id": "133612be-a8e4-4e24-8cc2-378592a99df9",
   "metadata": {},
   "outputs": [
    {
     "data": {
      "text/plain": [
       "307"
      ]
     },
     "execution_count": 16,
     "metadata": {},
     "output_type": "execute_result"
    }
   ],
   "source": [
    "df['O3'].nunique()"
   ]
  },
  {
   "cell_type": "code",
   "execution_count": 17,
   "id": "e4f74863-572a-4fde-b6d4-eec791e8780e",
   "metadata": {},
   "outputs": [
    {
     "data": {
      "text/plain": [
       "count    52704.000000\n",
       "mean        60.025729\n",
       "std         38.217348\n",
       "min          0.000000\n",
       "25%         35.000000\n",
       "50%         54.000000\n",
       "75%         78.000000\n",
       "max        349.000000\n",
       "Name: O3, dtype: float64"
      ]
     },
     "execution_count": 17,
     "metadata": {},
     "output_type": "execute_result"
    }
   ],
   "source": [
    "df['O3'].describe()"
   ]
  },
  {
   "cell_type": "code",
   "execution_count": 18,
   "id": "b7d493ed-7138-42e2-a3f0-b70d4fac69a6",
   "metadata": {},
   "outputs": [
    {
     "data": {
      "text/plain": [
       "count    52704.000000\n",
       "mean        17.689931\n",
       "std         15.670075\n",
       "min          0.100000\n",
       "25%          6.900000\n",
       "50%         12.500000\n",
       "75%         23.000000\n",
       "max        129.500000\n",
       "Name: PM2.5, dtype: float64"
      ]
     },
     "execution_count": 18,
     "metadata": {},
     "output_type": "execute_result"
    }
   ],
   "source": [
    "df['PM2.5'].describe()"
   ]
  },
  {
   "cell_type": "code",
   "execution_count": 19,
   "id": "37d6dae3-0e38-41ea-bedd-877fd1d334c8",
   "metadata": {},
   "outputs": [
    {
     "data": {
      "text/plain": [
       "858"
      ]
     },
     "execution_count": 19,
     "metadata": {},
     "output_type": "execute_result"
    }
   ],
   "source": [
    "df['PM2.5'].nunique()"
   ]
  },
  {
   "cell_type": "code",
   "execution_count": 20,
   "id": "316d9017-1bbb-44e9-a09b-e95ca39d0ff5",
   "metadata": {},
   "outputs": [
    {
     "data": {
      "text/plain": [
       "count    52704.000000\n",
       "mean        35.643143\n",
       "std         48.444774\n",
       "min          0.100000\n",
       "25%         10.200000\n",
       "50%         18.900000\n",
       "75%         37.500000\n",
       "max        543.900000\n",
       "Name: PM10, dtype: float64"
      ]
     },
     "execution_count": 20,
     "metadata": {},
     "output_type": "execute_result"
    }
   ],
   "source": [
    "df['PM10'].describe()"
   ]
  },
  {
   "cell_type": "code",
   "execution_count": 21,
   "id": "1257705b-b0f4-4b0f-ae0c-2e4ab95a7bcd",
   "metadata": {},
   "outputs": [
    {
     "data": {
      "text/plain": [
       "1751"
      ]
     },
     "execution_count": 21,
     "metadata": {},
     "output_type": "execute_result"
    }
   ],
   "source": [
    "df['PM10'].nunique()"
   ]
  },
  {
   "cell_type": "markdown",
   "id": "f23fb3b7-3995-4197-8968-a92b5c224e44",
   "metadata": {},
   "source": [
    "**Data Cleaning and Transformation**"
   ]
  },
  {
   "cell_type": "code",
   "execution_count": 23,
   "id": "f95a4bbc-d66c-4b35-88a6-5a00a460c017",
   "metadata": {},
   "outputs": [],
   "source": [
    "df.drop(columns=['CO2','Date'],inplace=True)"
   ]
  },
  {
   "cell_type": "code",
   "execution_count": 24,
   "id": "09489f72-58b8-4533-ad45-1e446b432ca7",
   "metadata": {},
   "outputs": [],
   "source": [
    "continous = ['CO', 'NO2', 'SO2', 'O3', 'PM2.5', 'PM10', 'AQI']"
   ]
  },
  {
   "cell_type": "code",
   "execution_count": 25,
   "id": "6cffc1aa-3121-4981-907c-5301e1b10059",
   "metadata": {},
   "outputs": [
    {
     "data": {
      "text/plain": [
       "<Axes: >"
      ]
     },
     "execution_count": 25,
     "metadata": {},
     "output_type": "execute_result"
    },
    {
     "data": {
      "image/png": "[encoded data removed]",
      "text/plain": [
       "<Figure size 640x480 with 1 Axes>"
      ]
     },
     "metadata": {},
     "output_type": "display_data"
    }
   ],
   "source": [
    "sns.boxplot(df[continous]) #checking outliers"
   ]
  },
  {
   "cell_type": "code",
   "execution_count": 26,
   "id": "3ef74f7a-3dab-4388-9796-8baafacc0b44",
   "metadata": {},
   "outputs": [],
   "source": [
    "iqr=df['CO'].quantile(0.75)-df['CO'].quantile(0.25)\n",
    "lower_limit=df['CO'].quantile(0.25)-(1.5*iqr)\n",
    "upper_limit=df['CO'].quantile(0.75)+(1.5*iqr)"
   ]
  },
  {
   "cell_type": "code",
   "execution_count": 27,
   "id": "32b25e6f-5c85-4450-bae7-6e93a7a72818",
   "metadata": {},
   "outputs": [
    {
     "data": {
      "text/plain": [
       "[8801, 8970, 9139, 9140, 9162, 24968, 24969, 24970]"
      ]
     },
     "execution_count": 27,
     "metadata": {},
     "output_type": "execute_result"
    }
   ],
   "source": [
    "df[df['CO']>1500].index.tolist()"
   ]
  },
  {
   "cell_type": "code",
   "execution_count": 28,
   "id": "6c247378-b01c-44a6-83f5-ac61d4f00c93",
   "metadata": {},
   "outputs": [],
   "source": [
    "df.drop(index=[8801, 8970, 9139, 9140, 9162, 24968, 24969, 24970],inplace=True)"
   ]
  },
  {
   "cell_type": "code",
   "execution_count": 29,
   "id": "c939b203-7afe-428c-88f7-1a0745f7e0f9",
   "metadata": {},
   "outputs": [
    {
     "data": {
      "text/plain": [
       "<Axes: >"
      ]
     },
     "execution_count": 29,
     "metadata": {},
     "output_type": "execute_result"
    },
    {
     "data": {
      "image/png": "[encoded data removed]",
      "text/plain": [
       "<Figure size 640x480 with 2 Axes>"
      ]
     },
     "metadata": {},
     "output_type": "display_data"
    }
   ],
   "source": [
    "sns.heatmap(df[continous].corr(),annot=True)"
   ]
  },
  {
   "cell_type": "code",
   "execution_count": 30,
   "id": "f42c67f9-bd50-4e21-be97-65fa8308a34b",
   "metadata": {},
   "outputs": [
    {
     "data": {
      "text/plain": [
       "CO       2.092011\n",
       "NO2      1.418891\n",
       "SO2      3.216709\n",
       "O3       1.412185\n",
       "PM2.5    1.834294\n",
       "PM10     3.425049\n",
       "AQI      1.619013\n",
       "dtype: float64"
      ]
     },
     "execution_count": 30,
     "metadata": {},
     "output_type": "execute_result"
    }
   ],
   "source": [
    "df[continous].skew()"
   ]
  },
  {
   "cell_type": "code",
   "execution_count": 31,
   "id": "ff84cf41-fc8f-48b7-b6ca-aca192b2cc1c",
   "metadata": {},
   "outputs": [],
   "source": [
    "df['CO'],p = stats.boxcox(df['CO'])"
   ]
  },
  {
   "cell_type": "code",
   "execution_count": 32,
   "id": "01fe1a70-e073-48f9-9b21-aec9d658c5b0",
   "metadata": {},
   "outputs": [],
   "source": [
    "df['NO2'],p = stats.boxcox(df['NO2']+0.00001)"
   ]
  },
  {
   "cell_type": "code",
   "execution_count": 33,
   "id": "f4880417-e037-4bb2-b43c-6a03156b155f",
   "metadata": {},
   "outputs": [],
   "source": [
    "df['SO2'],p = stats.boxcox(df['SO2']+0.00001)"
   ]
  },
  {
   "cell_type": "code",
   "execution_count": 34,
   "id": "457372d9-5c2f-41ac-beb8-0aa567ee7502",
   "metadata": {},
   "outputs": [],
   "source": [
    "df['PM10'],p = stats.boxcox(df['PM10'])"
   ]
  },
  {
   "cell_type": "code",
   "execution_count": 35,
   "id": "89908599-2956-4981-bfcc-d1254592a37f",
   "metadata": {},
   "outputs": [],
   "source": [
    "df['O3'],p = stats.boxcox(df['O3']+0.00001)"
   ]
  },
  {
   "cell_type": "code",
   "execution_count": 36,
   "id": "0a0c125a-1bb4-430d-9fd1-d76f957c36e6",
   "metadata": {},
   "outputs": [],
   "source": [
    "df['PM2.5'],p = stats.boxcox(df['PM2.5'])"
   ]
  },
  {
   "cell_type": "code",
   "execution_count": 37,
   "id": "df8c9818-8e5d-4c9f-b2c7-75eb2cf2a99c",
   "metadata": {},
   "outputs": [
    {
     "data": {
      "text/plain": [
       "CO       0.007002\n",
       "NO2     -0.031112\n",
       "SO2      0.002598\n",
       "O3      -0.157922\n",
       "PM2.5   -0.008160\n",
       "PM10    -0.001157\n",
       "AQI      1.619013\n",
       "dtype: float64"
      ]
     },
     "execution_count": 37,
     "metadata": {},
     "output_type": "execute_result"
    }
   ],
   "source": [
    "df[continous].skew()"
   ]
  },
  {
   "cell_type": "code",
   "execution_count": 38,
   "id": "6e2f1c0a-fcbc-44f5-a3a0-94cfcd6a7aa2",
   "metadata": {},
   "outputs": [],
   "source": [
    "df = pd.get_dummies(df, columns=['City'], drop_first=True, dtype=int)"
   ]
  },
  {
   "cell_type": "code",
   "execution_count": 39,
   "id": "a43eaef1-5e4a-48d5-8918-5ff28dbb056f",
   "metadata": {},
   "outputs": [
    {
     "name": "stdout",
     "output_type": "stream",
     "text": [
      "         Feature       VIF\n",
      "0             CO  5.265455\n",
      "1            NO2  4.823605\n",
      "2             O3  1.704906\n",
      "3           PM10  2.749615\n",
      "4     City_Cairo  1.539547\n",
      "5    City_London  1.826786\n",
      "6  City_New York  1.469385\n",
      "7    City_Sydney  3.010991\n"
     ]
    }
   ],
   "source": [
    "import pandas as pd\n",
    "from statsmodels.stats.outliers_influence import variance_inflation_factor\n",
    "from sklearn.preprocessing import StandardScaler\n",
    "\n",
    "# Assuming your DataFrame is named df\n",
    "features = ['CO', 'NO2', 'O3', 'PM10',\n",
    "            'City_Cairo', 'City_London', 'City_New York', 'City_Sydney']\n",
    "\n",
    "# Subset the DataFrame with selected features\n",
    "X = df[features]\n",
    "\n",
    "# It's often a good idea to standardize the features before VIF\n",
    "scaler = StandardScaler()\n",
    "X_scaled = scaler.fit_transform(X)\n",
    "\n",
    "# Create a DataFrame to hold the VIF values\n",
    "vif_df = pd.DataFrame()\n",
    "vif_df['Feature'] = features\n",
    "vif_df['VIF'] = [variance_inflation_factor(X_scaled, i) for i in range(X_scaled.shape[1])]\n",
    "\n",
    "# Display the result\n",
    "print(vif_df)\n"
   ]
  },
  {
   "cell_type": "code",
   "execution_count": 40,
   "id": "05831dc3-59fd-423c-9016-f8143b87e953",
   "metadata": {},
   "outputs": [],
   "source": [
    "# df.drop(columns=['PM2.5','SO2','City_Dubai'],inplace=True)"
   ]
  },
  {
   "cell_type": "code",
   "execution_count": 41,
   "id": "2552b432-b77a-45d1-b26f-61ad772850d6",
   "metadata": {},
   "outputs": [],
   "source": [
    "df.to_csv('Cleaned_Data',index=False)"
   ]
  }
 ],
 "metadata": {
  "kernelspec": {
   "display_name": "Python [conda env:base] *",
   "language": "python",
   "name": "conda-base-py"
  },
  "language_info": {
   "codemirror_mode": {
    "name": "ipython",
    "version": 3
   },
   "file_extension": ".py",
   "mimetype": "text/x-python",
   "name": "python",
   "nbconvert_exporter": "python",
   "pygments_lexer": "ipython3",
   "version": "3.12.7"
  }
 },
 "nbformat": 4,
 "nbformat_minor": 5
}
